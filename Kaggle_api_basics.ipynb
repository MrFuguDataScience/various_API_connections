{
 "cells": [
  {
   "cell_type": "markdown",
   "metadata": {},
   "source": [
    "# `Kaggle Api Basics`\n",
    "\n",
    "\n",
    "# <font color=red>Mr Fugu Data Science</font>\n",
    "\n",
    "# (◕‿◕✿)\n",
    "\n",
    "# `Purpose and Outcome:`\n",
    "\n",
    "+ Work with the Kaggle API, learn some basics with command line and calls from Python\n",
    "\n",
    "+ Download files, find competitions, parse JSON, open Zip files from python\n",
    "\n",
    "`---------------------`\n",
    "# $1^{st}$\n",
    "\n",
    "+ **Before you get started you need an account** with `Kaggle` to get your API key then\n",
    "\n",
    "# $2^{nd}$\n",
    "\n",
    "+ Take the downloaded `kaggle.json` file and paste it in \n",
    "\n",
    "**Windows**\n",
    "\n",
    "+ Go to directory — `“C:\\Users\\<username>\\.kaggle\\”` — and paste here downloaded JSON file.\n",
    "\n",
    "**Mac/Linux**\n",
    "\n",
    "+ `~/.kaggle/`\n",
    "\n",
    "\n",
    "# $3^{rd}$\n",
    "\n",
    "(`pip or pip3`): depending on what you have setup\n",
    "\n",
    "+ `pip3 install kaggle`\n",
    "    \n",
    "    + as a side note for those on `Mac/Linux` you may need to do: `pip3 install --user kaggle` if you encounter issues with install.\n",
    "\n",
    "or\n",
    "\n",
    "+ `conda install -c conda-forge kaggle`\n",
    "\n",
    "# $4^{th}$\n",
    "+ go to your account and download an api key\n",
    "    \n",
    "    + [Then check this out](https://medium.com/analytics-vidhya/fetch-data-from-kaggle-with-python-9154a4c610e3) if you need help or clarification along with the `kaggle api docs` this [kaggle api docs](https://www.kaggle.com/docs/api)"
   ]
  },
  {
   "cell_type": "code",
   "execution_count": 35,
   "metadata": {},
   "outputs": [],
   "source": [
    "# Convert Zip files\n",
    "from zipfile import ZipFile\n",
    "# Find files or directories\n",
    "import os\n",
    "# Dataframe operations\n",
    "import pandas as pd"
   ]
  },
  {
   "cell_type": "code",
   "execution_count": 3,
   "metadata": {},
   "outputs": [
    {
     "name": "stdout",
     "output_type": "stream",
     "text": [
      "Warning: Your Kaggle API key is readable by other users on this system! To fix this, you can run 'chmod 600 /Users/zatoichi59/.kaggle/kaggle.json'\n"
     ]
    }
   ],
   "source": [
    "# Connect to Kaggle Api\n",
    "from kaggle.api.kaggle_api_extended import KaggleApi\n",
    "api = KaggleApi()\n",
    "api.authenticate()"
   ]
  },
  {
   "cell_type": "code",
   "execution_count": 63,
   "metadata": {},
   "outputs": [
    {
     "data": {
      "text/plain": [
       "[contradictory-my-dear-watson,\n",
       " gan-getting-started,\n",
       " tpu-getting-started,\n",
       " digit-recognizer,\n",
       " titanic,\n",
       " house-prices-advanced-regression-techniques,\n",
       " connectx,\n",
       " nlp-getting-started,\n",
       " facial-keypoints-detection,\n",
       " street-view-getting-started-with-julia,\n",
       " word2vec-nlp-tutorial,\n",
       " data-science-london-scikit-learn,\n",
       " just-the-basics-the-after-party,\n",
       " just-the-basics-strata-2013]"
      ]
     },
     "execution_count": 63,
     "metadata": {},
     "output_type": "execute_result"
    }
   ],
   "source": [
    "api.competitions_list(category='gettingStarted')\n"
   ]
  },
  {
   "cell_type": "code",
   "execution_count": 82,
   "metadata": {},
   "outputs": [
    {
     "name": "stdout",
     "output_type": "stream",
     "text": [
      "ref                    deadline             category            reward  teamCount  userHasEntered  \n",
      "---------------------  -------------------  ---------------  ---------  ---------  --------------  \n",
      "word2vec-nlp-tutorial  2015-06-30 23:59:00  Getting Started  Knowledge        577           False  \n"
     ]
    }
   ],
   "source": [
    "# Notice the CLI: command line interface\n",
    "api.competitions_list_cli(search='word2vec-nlp-tutorial')"
   ]
  },
  {
   "cell_type": "code",
   "execution_count": 78,
   "metadata": {},
   "outputs": [
    {
     "data": {
      "text/plain": [
       "[unlabeledTrainData.tsv.zip,\n",
       " labeledTrainData.tsv.zip,\n",
       " sampleSubmission.csv,\n",
       " testData.tsv.zip]"
      ]
     },
     "execution_count": 78,
     "metadata": {},
     "output_type": "execute_result"
    }
   ],
   "source": [
    "api.competition_list_files('word2vec-nlp-tutorial')"
   ]
  },
  {
   "cell_type": "code",
   "execution_count": 333,
   "metadata": {},
   "outputs": [
    {
     "data": {
      "text/plain": [
       "Index(['id', 'ref', 'subtitle', 'tags', 'creatorName', 'creatorUrl',\n",
       "       'totalBytes', 'url', 'lastUpdated', 'downloadCount', 'isPrivate',\n",
       "       'isReviewed', 'isFeatured', 'licenseName', 'description', 'ownerName',\n",
       "       'ownerRef', 'kernelCount', 'title', 'topicCount', 'viewCount',\n",
       "       'voteCount', 'currentVersionNumber', 'files', 'versions',\n",
       "       'usabilityRating'],\n",
       "      dtype='object')"
      ]
     },
     "execution_count": 333,
     "metadata": {},
     "output_type": "execute_result"
    }
   ],
   "source": [
    "pd.DataFrame(api.datasets_list(search='lego')).head(8).columns"
   ]
  },
  {
   "cell_type": "code",
   "execution_count": 297,
   "metadata": {},
   "outputs": [
    {
     "data": {
      "text/plain": [
       "{'id': 1599,\n",
       " 'ref': 'rtatman/lego-database',\n",
       " 'subtitle': 'The LEGO Parts/Sets/Colors and Inventories of every official LEGO set',\n",
       " 'tags': [{'ref': 'games',\n",
       "   'competitionCount': 0,\n",
       "   'datasetCount': 1315,\n",
       "   'description': \"One of the hallmarks of intelligence is the use of games and toys to occupy free time and develop intellectually. Often stored in Mom's basement.\",\n",
       "   'fullPath': 'topic > culture and humanities > games',\n",
       "   'isAutomatic': False,\n",
       "   'name': 'games',\n",
       "   'scriptCount': 52,\n",
       "   'totalCount': 1367},\n",
       "  {'ref': 'real estate',\n",
       "   'competitionCount': 3,\n",
       "   'datasetCount': 764,\n",
       "   'description': \"Datsets and kernels analyzing housing, apartments, and property in general. For those of you house-hunting, you should avoid max(house_price). It's high. Really high.\",\n",
       "   'fullPath': 'topic > people and society > business > real estate',\n",
       "   'isAutomatic': False,\n",
       "   'name': 'real estate',\n",
       "   'scriptCount': 43,\n",
       "   'totalCount': 810}],\n",
       " 'creatorName': 'Rachael Tatman',\n",
       " 'creatorUrl': 'rtatman',\n",
       " 'totalBytes': 3079487,\n",
       " 'url': 'https://www.kaggle.com/rtatman/lego-database',\n",
       " 'lastUpdated': '2017-07-14T18:00:24.067Z',\n",
       " 'downloadCount': 10492,\n",
       " 'isPrivate': False,\n",
       " 'isReviewed': True,\n",
       " 'isFeatured': False,\n",
       " 'licenseName': 'CC0: Public Domain',\n",
       " 'description': None,\n",
       " 'ownerName': 'Rachael Tatman',\n",
       " 'ownerRef': 'rtatman',\n",
       " 'kernelCount': 69,\n",
       " 'title': 'LEGO Database',\n",
       " 'topicCount': 4,\n",
       " 'viewCount': 88619,\n",
       " 'voteCount': 248,\n",
       " 'currentVersionNumber': 1,\n",
       " 'files': [],\n",
       " 'versions': [],\n",
       " 'usabilityRating': 0.88235295}"
      ]
     },
     "execution_count": 297,
     "metadata": {},
     "output_type": "execute_result"
    }
   ],
   "source": [
    "# Since this is JSON we can parse this if you want: well why NOT (we love JSON parsing)\n",
    "api.datasets_list(search='lego')[0]"
   ]
  },
  {
   "cell_type": "code",
   "execution_count": 367,
   "metadata": {},
   "outputs": [
    {
     "data": {
      "text/html": [
       "<div>\n",
       "<style scoped>\n",
       "    .dataframe tbody tr th:only-of-type {\n",
       "        vertical-align: middle;\n",
       "    }\n",
       "\n",
       "    .dataframe tbody tr th {\n",
       "        vertical-align: top;\n",
       "    }\n",
       "\n",
       "    .dataframe thead th {\n",
       "        text-align: right;\n",
       "    }\n",
       "</style>\n",
       "<table border=\"1\" class=\"dataframe\">\n",
       "  <thead>\n",
       "    <tr style=\"text-align: right;\">\n",
       "      <th></th>\n",
       "      <th>id</th>\n",
       "      <th>ref</th>\n",
       "      <th>title</th>\n",
       "      <th>description</th>\n",
       "    </tr>\n",
       "  </thead>\n",
       "  <tbody>\n",
       "    <tr>\n",
       "      <th>0</th>\n",
       "      <td>1599</td>\n",
       "      <td>rtatman/lego-database</td>\n",
       "      <td>LEGO Database</td>\n",
       "      <td>One of the hallmarks of intelligence is the us...</td>\n",
       "    </tr>\n",
       "    <tr>\n",
       "      <th>1</th>\n",
       "      <td>838778</td>\n",
       "      <td>ihelon/lego-minifigures-classification</td>\n",
       "      <td>LEGO Minifigures</td>\n",
       "      <td>Activities that holds the attention and intere...</td>\n",
       "    </tr>\n",
       "    <tr>\n",
       "      <th>2</th>\n",
       "      <td>39176</td>\n",
       "      <td>joosthazelzet/lego-brick-images</td>\n",
       "      <td>Images of LEGO Bricks</td>\n",
       "      <td>One of the hallmarks of intelligence is the us...</td>\n",
       "    </tr>\n",
       "    <tr>\n",
       "      <th>3</th>\n",
       "      <td>27292</td>\n",
       "      <td>mterzolo/lego-sets</td>\n",
       "      <td>Lego Sets</td>\n",
       "      <td>Grab a bucket of popcorn and come analyze thes...</td>\n",
       "    </tr>\n",
       "    <tr>\n",
       "      <th>4</th>\n",
       "      <td>88933</td>\n",
       "      <td>pacogarciam3/lego-brick-sorting-image-recognition</td>\n",
       "      <td>Lego Brick Sorting - Image Recognition</td>\n",
       "      <td>None</td>\n",
       "    </tr>\n",
       "  </tbody>\n",
       "</table>\n",
       "</div>"
      ],
      "text/plain": [
       "       id                                                ref  \\\n",
       "0    1599                              rtatman/lego-database   \n",
       "1  838778             ihelon/lego-minifigures-classification   \n",
       "2   39176                    joosthazelzet/lego-brick-images   \n",
       "3   27292                                 mterzolo/lego-sets   \n",
       "4   88933  pacogarciam3/lego-brick-sorting-image-recognition   \n",
       "\n",
       "                                    title  \\\n",
       "0                           LEGO Database   \n",
       "1                        LEGO Minifigures   \n",
       "2                   Images of LEGO Bricks   \n",
       "3                               Lego Sets   \n",
       "4  Lego Brick Sorting - Image Recognition   \n",
       "\n",
       "                                         description  \n",
       "0  One of the hallmarks of intelligence is the us...  \n",
       "1  Activities that holds the attention and intere...  \n",
       "2  One of the hallmarks of intelligence is the us...  \n",
       "3  Grab a bucket of popcorn and come analyze thes...  \n",
       "4                                               None  "
      ]
     },
     "execution_count": 367,
     "metadata": {},
     "output_type": "execute_result"
    }
   ],
   "source": [
    "fun_json_parsing=[]\n",
    "for i in api.datasets_list(search='lego'):\n",
    "    \n",
    "    if i['tags']!=[]:\n",
    "        fun_json_parsing.append([i['id'],i['ref'],i['title'],\n",
    "                                i['tags'][0]['description']])\n",
    "    else:\n",
    "        fun_json_parsing.append([i['id'],i['ref'],i['title'],'None'])\n",
    "\n",
    "legos_df=pd.DataFrame(fun_json_parsing,columns=['id','ref','title','description'])\n",
    "legos_df.head()\n",
    "\n",
    "# The description column doesn't make sense but illustrates going into nested portion!"
   ]
  },
  {
   "cell_type": "code",
   "execution_count": 363,
   "metadata": {},
   "outputs": [
    {
     "data": {
      "text/plain": [
       "\"One of the hallmarks of intelligence is the use of games and toys to occupy free time and develop intellectually. Often stored in Mom's basement.\""
      ]
     },
     "execution_count": 363,
     "metadata": {},
     "output_type": "execute_result"
    }
   ],
   "source": [
    "# stored in the tags originally and makes NO sense, who knows why?\n",
    "legos_df['description'][0]"
   ]
  },
  {
   "cell_type": "markdown",
   "metadata": {},
   "source": [
    "# Hiccups:\n",
    "\n",
    "+ At some point you will reach an error of `401 unauthorized`, this is an irritating and very frustrating error. Because, you google and read and have no succcess. I had this come up today\n",
    "\n",
    "+ I had to try and upgrade/update kaggle\n",
    "    + That didn't work so I tried to uninstall and do again\n",
    "        + I then tried to use an alternate install for Mac with the user portion I mentioned at the top\n",
    "+ I then decided to do something, cancel the api key in kaggle and download another.\n",
    "\n",
    "then I did this: going into the terminal\n",
    "\n",
    "`mycomputername:~/Downloads$ kaggle.json\n",
    "-bash: kaggle.json: command not found\n",
    "mycomputername:~/Downloads$ vi kaggle.json \n",
    "mycomputername:~/Downloads$ mv kaggle.json ~/.kaggle \n",
    "mycomputername:~/Downloads$ cd ..\n",
    "mycomputername:~$ chmod 600 /Users/mycomputername/.kaggle/kaggle.json\n",
    "`\n",
    "\n",
    "I looked inside of the file to make sure it had something, because I was desperate `vi kaggle.json` and everthing checked out. It is your user name and an api key\n",
    "\n",
    "then I said ok, lets move this file to the folder `.kaggle`, I had an old api key but it didn't say anything to me. Not sure why. But, then I went to run a command and it worked.\n",
    "I was greeted with the option of changing to `chmod 600 and the other junk`\n",
    "\n",
    "`Warning: Your Kaggle API key is readable by other users on this system! To fix this, you can run 'chmod 600 /Users/mycomputername/.kaggle/kaggle.json'`\n",
    "\n",
    "just copied and pasted into command line:\n",
    "\n",
    "`chmod 600 /Users/mycomputername/.kaggle/kaggle.json`\n",
    "\n",
    "*for now it works, knock on wood*"
   ]
  },
  {
   "cell_type": "code",
   "execution_count": 198,
   "metadata": {},
   "outputs": [
    {
     "data": {
      "text/plain": [
       "[hhs/health-insurance-marketplace,\n",
       " hhs/health-insurance,\n",
       " anmolkumar/health-insurance-cross-sell-prediction,\n",
       " omartronco/health-insurance-data,\n",
       " shivan118/healthcare-analytics,\n",
       " osmi/mental-health-in-tech-survey,\n",
       " mirichoi0218/insurance,\n",
       " mariaren/covid19-healthy-diet-dataset,\n",
       " nehaprabhavalkar/av-healthcare-analytics-ii,\n",
       " teertha/ushealthinsurancedataset,\n",
       " danevans/world-bank-wdi-212-health-systems,\n",
       " citizen-ds-ghana/health-facilities-gh,\n",
       " cdc/national-health-and-nutrition-examination-survey,\n",
       " annetxu/health-insurance-cost-prediction,\n",
       " cityofLA/la-restaurant-market-health-data,\n",
       " rajanand/key-indicators-of-annual-health-survey,\n",
       " theworldbank/health-nutrition-and-population-statistics,\n",
       " osmi/mental-health-in-tech-2016,\n",
       " nareshbhat/health-care-data-set-on-heart-attack-possibility,\n",
       " bls/eating-health-module-dataset]"
      ]
     },
     "execution_count": 198,
     "metadata": {},
     "output_type": "execute_result"
    }
   ],
   "source": [
    "# all of the datasets fitting our search:\n",
    "api.dataset_list(search='health insurance') # ,file_type='csv')"
   ]
  },
  {
   "cell_type": "code",
   "execution_count": 199,
   "metadata": {},
   "outputs": [
    {
     "data": {
      "text/plain": [
       "[train.csv, sample_submission.csv, test.csv]"
      ]
     },
     "execution_count": 199,
     "metadata": {},
     "output_type": "execute_result"
    }
   ],
   "source": [
    "# Find the files inside of the folder here:\n",
    "api.dataset_list_files('anmolkumar/health-insurance-cross-sell-prediction').files"
   ]
  },
  {
   "cell_type": "markdown",
   "metadata": {},
   "source": [
    "# `Create a folder to store our datasets from kaggle:`"
   ]
  },
  {
   "cell_type": "code",
   "execution_count": 200,
   "metadata": {},
   "outputs": [
    {
     "name": "stdout",
     "output_type": "stream",
     "text": [
      "Successfully created the directory /Users/zatoichi59/Desktop/health_insurance \n"
     ]
    }
   ],
   "source": [
    "# import os\n",
    "\n",
    "# define the name of the directory to be created\n",
    "path = os.getcwd()+\"/health_insurance\"\n",
    "\n",
    "try:\n",
    "    os.mkdir(path)\n",
    "except OSError:\n",
    "    print (\"Creation of the directory %s failed\" % path)\n",
    "else:\n",
    "    print (\"Successfully created the directory %s \" % path)"
   ]
  },
  {
   "cell_type": "markdown",
   "metadata": {},
   "source": [
    "# `Get all of the datasets reflecting our search criteria:`"
   ]
  },
  {
   "cell_type": "code",
   "execution_count": 204,
   "metadata": {},
   "outputs": [],
   "source": [
    "# download one dataset: you have an onwer/file_name\n",
    "\n",
    "api.dataset_download_files('anmolkumar/health-insurance-cross-sell-prediction',\n",
    "        '/Users/zatoichi59/Desktop/health_insurance')"
   ]
  },
  {
   "cell_type": "code",
   "execution_count": 227,
   "metadata": {},
   "outputs": [
    {
     "data": {
      "text/plain": [
       "['health-insurance-cross-sell-prediction.zip']"
      ]
     },
     "execution_count": 227,
     "metadata": {},
     "output_type": "execute_result"
    }
   ],
   "source": [
    "# find what is inside the new folder from downloaded data:\n",
    "health_ins=!ls /Users/zatoichi59/Desktop/health_insurance\n",
    "health_ins"
   ]
  },
  {
   "cell_type": "code",
   "execution_count": 239,
   "metadata": {},
   "outputs": [
    {
     "data": {
      "text/plain": [
       "'/Users/zatoichi59/Desktop/health_insurance'"
      ]
     },
     "execution_count": 239,
     "metadata": {},
     "output_type": "execute_result"
    }
   ],
   "source": [
    "def os_dir_search(file):\n",
    "    u=[]\n",
    "    for p,n,f in os.walk(os.getcwd()):\n",
    "        \n",
    "        for a in f:\n",
    "            a = str(a)\n",
    "            if a.endswith(file): # can be (.csv) or a file like I did and search \n",
    "#                 print(a)\n",
    "#                 print(p)\n",
    "                t=p\n",
    "    return t\n",
    "\n",
    "os_dir_search(health_ins[0])"
   ]
  },
  {
   "cell_type": "code",
   "execution_count": 77,
   "metadata": {},
   "outputs": [],
   "source": [
    "# download all datasets fitting the search criteria! \n",
    "# (Becareful you can get files that are 100+GB), like images so pay attention\n",
    "\n",
    "data_=api.dataset_list(search='cannabis',file_type='csv')\n",
    "\n",
    "for i in data_:\n",
    "    api.dataset_download_files(str(i),path=os.getcwd()+'/kaggle_datasets')\n",
    "\n",
    "    # you can choose to unzip=True depending on your needs"
   ]
  },
  {
   "cell_type": "markdown",
   "metadata": {},
   "source": [
    "# `Extract Zip files:`"
   ]
  },
  {
   "cell_type": "code",
   "execution_count": 279,
   "metadata": {},
   "outputs": [
    {
     "name": "stdout",
     "output_type": "stream",
     "text": [
      "File Name                                             Modified             Size\n",
      "sample_submission.csv                          2020-09-11 18:39:44      1143345\n",
      "test.csv                                       2020-09-11 18:39:44      6927930\n",
      "train.csv                                      2020-09-11 18:39:50     21432357\n",
      "Extracting all the files now...\n",
      "Done!\n"
     ]
    }
   ],
   "source": [
    "from zipfile import ZipFile\n",
    "# specifying the zip file name \n",
    "\n",
    "file_name=os_dir_search(health_ins[0])+'/'+health_ins[0]\n",
    "  \n",
    "# opening the zip file in READ mode \n",
    "with ZipFile(file_name, 'r') as zip: \n",
    "    # printing all the contents of the zip file \n",
    "    zip.printdir() \n",
    "  \n",
    "    # extracting all the files \n",
    "    print('Extracting all the files now...') \n",
    "    zip.extractall('/Users/zatoichi59/Desktop/health_insurance') \n",
    "    print('Done!')"
   ]
  },
  {
   "cell_type": "code",
   "execution_count": 295,
   "metadata": {},
   "outputs": [
    {
     "name": "stdout",
     "output_type": "stream",
     "text": [
      "Location of my Insurance Folder:  /Users/zatoichi59/Desktop/health_insurance\n",
      "-------------------------------\n",
      "Files in Insurance Folder: \n",
      " ['health-insurance-cross-sell-prediction.zip', 'sample_submission.csv', 'test.csv', 'train.csv']\n"
     ]
    }
   ],
   "source": [
    "print('Location of my Insurance Folder: ',os_dir_search(health_ins[0]))\n",
    "print('-------------------------------')\n",
    "print('Files in Insurance Folder: \\n',os.listdir(my_dir))"
   ]
  },
  {
   "cell_type": "code",
   "execution_count": 288,
   "metadata": {},
   "outputs": [
    {
     "data": {
      "text/html": [
       "<div>\n",
       "<style scoped>\n",
       "    .dataframe tbody tr th:only-of-type {\n",
       "        vertical-align: middle;\n",
       "    }\n",
       "\n",
       "    .dataframe tbody tr th {\n",
       "        vertical-align: top;\n",
       "    }\n",
       "\n",
       "    .dataframe thead th {\n",
       "        text-align: right;\n",
       "    }\n",
       "</style>\n",
       "<table border=\"1\" class=\"dataframe\">\n",
       "  <thead>\n",
       "    <tr style=\"text-align: right;\">\n",
       "      <th></th>\n",
       "      <th>id</th>\n",
       "      <th>Gender</th>\n",
       "      <th>Age</th>\n",
       "      <th>Driving_License</th>\n",
       "      <th>Region_Code</th>\n",
       "      <th>Previously_Insured</th>\n",
       "      <th>Vehicle_Age</th>\n",
       "      <th>Vehicle_Damage</th>\n",
       "      <th>Annual_Premium</th>\n",
       "      <th>Policy_Sales_Channel</th>\n",
       "      <th>Vintage</th>\n",
       "    </tr>\n",
       "  </thead>\n",
       "  <tbody>\n",
       "    <tr>\n",
       "      <th>0</th>\n",
       "      <td>381110</td>\n",
       "      <td>Male</td>\n",
       "      <td>25</td>\n",
       "      <td>1</td>\n",
       "      <td>11.0</td>\n",
       "      <td>1</td>\n",
       "      <td>&lt; 1 Year</td>\n",
       "      <td>No</td>\n",
       "      <td>35786.0</td>\n",
       "      <td>152.0</td>\n",
       "      <td>53</td>\n",
       "    </tr>\n",
       "    <tr>\n",
       "      <th>1</th>\n",
       "      <td>381111</td>\n",
       "      <td>Male</td>\n",
       "      <td>40</td>\n",
       "      <td>1</td>\n",
       "      <td>28.0</td>\n",
       "      <td>0</td>\n",
       "      <td>1-2 Year</td>\n",
       "      <td>Yes</td>\n",
       "      <td>33762.0</td>\n",
       "      <td>7.0</td>\n",
       "      <td>111</td>\n",
       "    </tr>\n",
       "    <tr>\n",
       "      <th>2</th>\n",
       "      <td>381112</td>\n",
       "      <td>Male</td>\n",
       "      <td>47</td>\n",
       "      <td>1</td>\n",
       "      <td>28.0</td>\n",
       "      <td>0</td>\n",
       "      <td>1-2 Year</td>\n",
       "      <td>Yes</td>\n",
       "      <td>40050.0</td>\n",
       "      <td>124.0</td>\n",
       "      <td>199</td>\n",
       "    </tr>\n",
       "    <tr>\n",
       "      <th>3</th>\n",
       "      <td>381113</td>\n",
       "      <td>Male</td>\n",
       "      <td>24</td>\n",
       "      <td>1</td>\n",
       "      <td>27.0</td>\n",
       "      <td>1</td>\n",
       "      <td>&lt; 1 Year</td>\n",
       "      <td>Yes</td>\n",
       "      <td>37356.0</td>\n",
       "      <td>152.0</td>\n",
       "      <td>187</td>\n",
       "    </tr>\n",
       "    <tr>\n",
       "      <th>4</th>\n",
       "      <td>381114</td>\n",
       "      <td>Male</td>\n",
       "      <td>27</td>\n",
       "      <td>1</td>\n",
       "      <td>28.0</td>\n",
       "      <td>1</td>\n",
       "      <td>&lt; 1 Year</td>\n",
       "      <td>No</td>\n",
       "      <td>59097.0</td>\n",
       "      <td>152.0</td>\n",
       "      <td>297</td>\n",
       "    </tr>\n",
       "    <tr>\n",
       "      <th>...</th>\n",
       "      <td>...</td>\n",
       "      <td>...</td>\n",
       "      <td>...</td>\n",
       "      <td>...</td>\n",
       "      <td>...</td>\n",
       "      <td>...</td>\n",
       "      <td>...</td>\n",
       "      <td>...</td>\n",
       "      <td>...</td>\n",
       "      <td>...</td>\n",
       "      <td>...</td>\n",
       "    </tr>\n",
       "    <tr>\n",
       "      <th>127032</th>\n",
       "      <td>508142</td>\n",
       "      <td>Female</td>\n",
       "      <td>26</td>\n",
       "      <td>1</td>\n",
       "      <td>37.0</td>\n",
       "      <td>1</td>\n",
       "      <td>&lt; 1 Year</td>\n",
       "      <td>No</td>\n",
       "      <td>30867.0</td>\n",
       "      <td>152.0</td>\n",
       "      <td>56</td>\n",
       "    </tr>\n",
       "    <tr>\n",
       "      <th>127033</th>\n",
       "      <td>508143</td>\n",
       "      <td>Female</td>\n",
       "      <td>38</td>\n",
       "      <td>1</td>\n",
       "      <td>28.0</td>\n",
       "      <td>0</td>\n",
       "      <td>1-2 Year</td>\n",
       "      <td>Yes</td>\n",
       "      <td>28700.0</td>\n",
       "      <td>122.0</td>\n",
       "      <td>165</td>\n",
       "    </tr>\n",
       "    <tr>\n",
       "      <th>127034</th>\n",
       "      <td>508144</td>\n",
       "      <td>Male</td>\n",
       "      <td>21</td>\n",
       "      <td>1</td>\n",
       "      <td>46.0</td>\n",
       "      <td>1</td>\n",
       "      <td>&lt; 1 Year</td>\n",
       "      <td>No</td>\n",
       "      <td>29802.0</td>\n",
       "      <td>152.0</td>\n",
       "      <td>74</td>\n",
       "    </tr>\n",
       "    <tr>\n",
       "      <th>127035</th>\n",
       "      <td>508145</td>\n",
       "      <td>Male</td>\n",
       "      <td>71</td>\n",
       "      <td>1</td>\n",
       "      <td>28.0</td>\n",
       "      <td>1</td>\n",
       "      <td>1-2 Year</td>\n",
       "      <td>No</td>\n",
       "      <td>62875.0</td>\n",
       "      <td>26.0</td>\n",
       "      <td>265</td>\n",
       "    </tr>\n",
       "    <tr>\n",
       "      <th>127036</th>\n",
       "      <td>508146</td>\n",
       "      <td>Male</td>\n",
       "      <td>41</td>\n",
       "      <td>1</td>\n",
       "      <td>29.0</td>\n",
       "      <td>1</td>\n",
       "      <td>1-2 Year</td>\n",
       "      <td>No</td>\n",
       "      <td>27927.0</td>\n",
       "      <td>124.0</td>\n",
       "      <td>231</td>\n",
       "    </tr>\n",
       "  </tbody>\n",
       "</table>\n",
       "<p>127037 rows × 11 columns</p>\n",
       "</div>"
      ],
      "text/plain": [
       "            id  Gender  Age  Driving_License  Region_Code  Previously_Insured  \\\n",
       "0       381110    Male   25                1         11.0                   1   \n",
       "1       381111    Male   40                1         28.0                   0   \n",
       "2       381112    Male   47                1         28.0                   0   \n",
       "3       381113    Male   24                1         27.0                   1   \n",
       "4       381114    Male   27                1         28.0                   1   \n",
       "...        ...     ...  ...              ...          ...                 ...   \n",
       "127032  508142  Female   26                1         37.0                   1   \n",
       "127033  508143  Female   38                1         28.0                   0   \n",
       "127034  508144    Male   21                1         46.0                   1   \n",
       "127035  508145    Male   71                1         28.0                   1   \n",
       "127036  508146    Male   41                1         29.0                   1   \n",
       "\n",
       "       Vehicle_Age Vehicle_Damage  Annual_Premium  Policy_Sales_Channel  \\\n",
       "0         < 1 Year             No         35786.0                 152.0   \n",
       "1         1-2 Year            Yes         33762.0                   7.0   \n",
       "2         1-2 Year            Yes         40050.0                 124.0   \n",
       "3         < 1 Year            Yes         37356.0                 152.0   \n",
       "4         < 1 Year             No         59097.0                 152.0   \n",
       "...            ...            ...             ...                   ...   \n",
       "127032    < 1 Year             No         30867.0                 152.0   \n",
       "127033    1-2 Year            Yes         28700.0                 122.0   \n",
       "127034    < 1 Year             No         29802.0                 152.0   \n",
       "127035    1-2 Year             No         62875.0                  26.0   \n",
       "127036    1-2 Year             No         27927.0                 124.0   \n",
       "\n",
       "        Vintage  \n",
       "0            53  \n",
       "1           111  \n",
       "2           199  \n",
       "3           187  \n",
       "4           297  \n",
       "...         ...  \n",
       "127032       56  \n",
       "127033      165  \n",
       "127034       74  \n",
       "127035      265  \n",
       "127036      231  \n",
       "\n",
       "[127037 rows x 11 columns]"
      ]
     },
     "execution_count": 288,
     "metadata": {},
     "output_type": "execute_result"
    }
   ],
   "source": [
    "my_dir=os_dir_search(health_ins[0])\n",
    "health_insurance_files=[]\n",
    "for file in os.listdir(my_dir):\n",
    "    health_insurance_files.append(file)\n",
    "\n",
    "pd.read_csv(health_insurance_files[2])"
   ]
  },
  {
   "cell_type": "markdown",
   "metadata": {},
   "source": [
    "# <font color=red>Like</font>,Share &\n",
    "\n",
    "# <font color=red>SUB</font>scribe"
   ]
  },
  {
   "cell_type": "markdown",
   "metadata": {},
   "source": [
    "# `Citations & Help:` \n",
    "\n",
    "# ◔̯◔\n",
    "\n",
    "https://medium.com/@jeff.daniel77/accessing-the-kaggle-com-api-with-jupyter-notebook-on-windows-d6f330bc6953\n",
    "\n",
    "https://github.com/Kaggle/kaggle-api\n",
    "\n",
    "https://technowhisp.com/kaggle-api-python-documentation/\n",
    "\n",
    "https://www.kaggle.com/docs/api#interacting-with-datasets\n",
    "\n",
    "https://www.geeksforgeeks.org/working-zip-files-python/\n",
    "\n",
    "https://medium.com/analytics-vidhya/fetch-data-from-kaggle-with-python-9154a4c610e3\n",
    "\n",
    "https://stackabuse.com/creating-and-deleting-directories-with-python/\n",
    "\n",
    "https://www.kaggle.com/paultimothymooney/exploring-the-kaggle-api\n",
    "\n",
    "https://stackoverflow.com/questions/50836642/i-get-a-bash-command-not-found-when-trying-to-use-the-kaggle-api"
   ]
  }
 ],
 "metadata": {
  "kernelspec": {
   "display_name": "Python 3",
   "language": "python",
   "name": "python3"
  },
  "language_info": {
   "codemirror_mode": {
    "name": "ipython",
    "version": 3
   },
   "file_extension": ".py",
   "mimetype": "text/x-python",
   "name": "python",
   "nbconvert_exporter": "python",
   "pygments_lexer": "ipython3",
   "version": "3.7.3"
  }
 },
 "nbformat": 4,
 "nbformat_minor": 4
}
