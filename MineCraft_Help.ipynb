{
 "cells": [
  {
   "cell_type": "markdown",
   "metadata": {},
   "source": [
    "# `Minecraft & Hypixel API to extract inv_armor`\n",
    "\n",
    "# <font color=red>Mr Fugu Data Science</font>\n",
    "\n",
    "# (◕‿◕✿)"
   ]
  },
  {
   "cell_type": "code",
   "execution_count": 1,
   "metadata": {},
   "outputs": [],
   "source": [
    "import requests # API Calls for Get request\n",
    "import json # handle JSON data\n",
    "import pandas as pd # Used for Dataframe\n",
    "\n",
    "# Future Prospect of Decoding the inv_armor:\n",
    "\n",
    "import io\n",
    "import base64"
   ]
  },
  {
   "cell_type": "markdown",
   "metadata": {},
   "source": [
    "# First we will Enter Minecraft API:"
   ]
  },
  {
   "cell_type": "code",
   "execution_count": 2,
   "metadata": {},
   "outputs": [
    {
     "name": "stdout",
     "output_type": "stream",
     "text": [
      "input your user name here!  DanTDM\n",
      "{\"name\":\"DanTDM\",\"id\":\"77cc85ae388a46eca5359e2ffef71b29\"}\n",
      "{'name': 'DanTDM', 'id': '77cc85ae388a46eca5359e2ffef71b29'}\n",
      "77cc85ae388a46eca5359e2ffef71b29\n"
     ]
    }
   ],
   "source": [
    "inv_armor=[] # what we will parse\n",
    "\n",
    "# Minecraft player you will input:\n",
    "name_choice = input(\"input your user name here!  \")\n",
    "\n",
    "# API we will use\n",
    "url = f'https://api.mojang.com/users/profiles/minecraft/'+name_choice\n",
    "\n",
    "params= \"minecraft\"\n",
    "\n",
    "# Get request to API to retreive information\n",
    "response = requests.get(url,params)\n",
    "\n",
    "'''\n",
    "Load information from API to json string if the response is 200, \n",
    "The informatin will be sent from\n",
    "user ID of Minecraft to Skyblocks API to retreive the data.\n",
    "'''\n",
    "if response.status_code == 200:\n",
    "    print(response.text)\n",
    "    # this is your uuid now\n",
    "    data = json.loads(response.text)\n",
    "    print(data)\n",
    "    print(data['id'])"
   ]
  },
  {
   "cell_type": "markdown",
   "metadata": {},
   "source": [
    "# Next, we will enter the Skyblocks API with a Key\n",
    "\n",
    "+ We will use the next step to take the user id from Minecraft and input into Skyblocks (hypixel) to retreive our data"
   ]
  },
  {
   "cell_type": "code",
   "execution_count": 3,
   "metadata": {},
   "outputs": [
    {
     "data": {
      "text/html": [
       "<div>\n",
       "<style scoped>\n",
       "    .dataframe tbody tr th:only-of-type {\n",
       "        vertical-align: middle;\n",
       "    }\n",
       "\n",
       "    .dataframe tbody tr th {\n",
       "        vertical-align: top;\n",
       "    }\n",
       "\n",
       "    .dataframe thead th {\n",
       "        text-align: right;\n",
       "    }\n",
       "</style>\n",
       "<table border=\"1\" class=\"dataframe\">\n",
       "  <thead>\n",
       "    <tr style=\"text-align: right;\">\n",
       "      <th></th>\n",
       "      <th>0</th>\n",
       "    </tr>\n",
       "  </thead>\n",
       "  <tbody>\n",
       "    <tr>\n",
       "      <th>0</th>\n",
       "      <td>H4sIAAAAAAAAALWV3W7iRhTHB5JtCG03UVaraqWqne222o...</td>\n",
       "    </tr>\n",
       "  </tbody>\n",
       "</table>\n",
       "</div>"
      ],
      "text/plain": [
       "                                                   0\n",
       "0  H4sIAAAAAAAAALWV3W7iRhTHB5JtCG03UVaraqWqne222o..."
      ]
     },
     "execution_count": 3,
     "metadata": {},
     "output_type": "execute_result"
    }
   ],
   "source": [
    "# Take data from the json string and enter a new API Hypixel from Skyblocks\n",
    "url_ = \"https://api.hypixel.net/skyblock/profiles?key={INPU_T YOUR API KEY HERE REMOVE BRACKETS ALSO}&uuid=\"\\\n",
    "+data['id']\n",
    "params_=\"uuid\"\n",
    "response_ = requests.get(url_,params_)\n",
    "    \n",
    "# Pulling data from Skyblocks:\n",
    "\n",
    "if response_.status_code == 200:\n",
    "#         print(response_.text)\n",
    "    p=json.loads(response_.text)\n",
    "#         print(p['profiles'])\n",
    "    for i in p['profiles']:\n",
    "#         print(i)\n",
    "#         print(i['members'].items())\n",
    "        pi=i['members'].items()\n",
    "        for j in pi:\n",
    "#             print(j)\n",
    "#             print(j[1]['inv_armor'].values())\n",
    "# #                 ['data'])\n",
    "# #                 print(j[1]['inv_armor']['data'])\n",
    "\n",
    "# #             e=j[1]['inv_armor']['data']\n",
    "            inv_armor.append(list(j[1]['inv_armor'].values())[1])\n",
    "\n",
    "# #             inv_armor.append(io.BytesIO(base64.b64decode(e)))\n",
    "\n",
    "pd.DataFrame(inv_armor)\n"
   ]
  },
  {
   "cell_type": "code",
   "execution_count": 7,
   "metadata": {},
   "outputs": [
    {
     "data": {
      "text/plain": [
       "['H4sIAAAAAAAAALWV3W7iRhTHB5JtCG03UVaraqWqne222ovKjQ0G29x5wRvQ8iUg7SUa28fGWn8ge0jDG/Ql9q4S6mvwKPsgVc+YJLuhaT7aLhcGZs7XzO/vc8qE7JNCUCaE7BZJMXALRoE8aiaLmBfKZIczf5/sQuzMiPgUyOensZ0Ce8vsEAo7ZL8duPA6ZH6Gu3+WyZ4bZPOQLdGpm6RQwtUjcrReaS3wIM6gQdcr9mNFxvWD9coYpgkHhwdJTH8mL9DsJGUxz3IjpSa+3r/7jV744vZP6Pc1flvMmdF5AA7QxKN8FmSUpVGySMk3uOumLGI8cFgYLmkQO1hvBhldiv3nYn8Tj9pJvMjorzOI0SrDg4hgjJTQJApiEMm+Xa/qrxdhSMfA6Sth36Aj8CGGlImy86KvFiCvvPYDPjUMJRLSiJ2Tl/h/vXLev/udtoGFfCYM4AzSJc3ASWKXBrl1Hm3GzrA0wKKSBRcVOUlkM069JBXRdfIYn2i38cxElTSPr0/EPQQcIuqwGEPQFNDJB/c5OcTLXq/CkTmy6KvBYDIukd0+i0AEM3p42BRPl/CMlMmBdc5TZnKeBvYCj1Qi+0ka+EE8YT7ZO+2/6Q9+6ZeEVMjhxOy/mfY6fWs0zaOWyRdCK8gwAuS4Q8rzK8JY5yOCaRcL9PxetT21KtcMyVMqmqTKqibpIKuS6uqerjug2MzFzDyIIOMsmpPH+nHlWDGo1qjWqNkjpEg+ayFnH4j4LZSr/8/K3fu7cqt1XD+8rtxOh3x3Xbr1m5V7N6avcrThab856PUGfdq1Tk46/ZMrWk9wvxWwSEimCz5C8e9E9uW4PRhOh6ejZtscWxfgWh0T47emlwnuAFf8AE6xZaXm6q7E6jZIiLEiMZvhQzMqqmdrhgs1dGfxWRBOF/jeicu/TlI7rgqStUZV/geS2qcnqX5aks+2SDbb1ngy7JoT65Ll049YNmd4N1gzh39D8+iS5ock9+fp2Y5drXl1qa47NvKUQTJ0W5ZkZjuernqqzfRtnsUH8iR/3MLzXgAPbngVlf8A8MVtQ4T6uX8eSvRzOW/om2kB53NIAywe8sEhppgYFvgiUiw178bPbpgZm7af66ZzNZD4DIMASyHNxJgIokV0oaytUWEvxSnq8r3V93RLfW2r27MmHyuvy+bobeJ5U0wURsAf1vqPuuawM56ao95gNN2Ef0APMVy16tVkyau6BrZ8tyoZqlqXFE+WPSZ7iqwqt2vuQDtWNCE6taHodLglOvIXWWBZGNYIAAA=']"
      ]
     },
     "execution_count": 7,
     "metadata": {},
     "output_type": "execute_result"
    }
   ],
   "source": [
    "# x=pd.DataFrame(inv_armor)\n",
    "inv_armor"
   ]
  },
  {
   "cell_type": "code",
   "execution_count": null,
   "metadata": {},
   "outputs": [],
   "source": []
  },
  {
   "cell_type": "markdown",
   "metadata": {},
   "source": [
    "# `Basic Information while using the API:`\n",
    "\n",
    "+ `Requests Codes:`\n",
    "    + `200` request accepted\n",
    "    + `403` denied\n",
    "    + `429` rate limit hit and you are being throttled\n",
    "\n",
    "+ If you are sending a request with an `invalid Minecraft player` you will not return anything. Meaning that the HTML body will be empty\n",
    "\n",
    "+ `id`: will be referenced as `uuid`\n",
    "+ "
   ]
  },
  {
   "cell_type": "markdown",
   "metadata": {},
   "source": [
    "# `Citations & Help:`\n",
    "\n",
    "# ◔̯◔\n",
    "\n",
    "# Please <font color=red>Like, Share & Sub</font>scribe"
   ]
  },
  {
   "cell_type": "code",
   "execution_count": null,
   "metadata": {},
   "outputs": [],
   "source": [
    "# https://code.tutsplus.com/tutorials/base64-encoding-and-decoding-using-python--cms-25588\n",
    "# https://github.com/HypixelDev/PublicAPI/issues/114\n",
    "# https://stackoverflow.com/questions/606191/convert-bytes-to-a-string\n",
    "# https://github.com/notnotmelon/skyblock-simplified/blob/master/skypy.py\n",
    "# https://node-hypixel.zikeji.com/guide/helpers/minecraft-item-data/#deno\n",
    "# https://hypixel-skyblock.fandom.com/wiki/SkyBlock_API\n",
    "# https://github.com/0x26e/skyblock_utils/blob/main/skyblock_utils.py"
   ]
  }
 ],
 "metadata": {
  "kernelspec": {
   "display_name": "Python 3",
   "language": "python",
   "name": "python3"
  },
  "language_info": {
   "codemirror_mode": {
    "name": "ipython",
    "version": 3
   },
   "file_extension": ".py",
   "mimetype": "text/x-python",
   "name": "python",
   "nbconvert_exporter": "python",
   "pygments_lexer": "ipython3",
   "version": "3.7.3"
  }
 },
 "nbformat": 4,
 "nbformat_minor": 4
}
